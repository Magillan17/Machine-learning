{
 "cells": [
  {
   "cell_type": "code",
   "execution_count": null,
   "id": "60631113",
   "metadata": {},
   "outputs": [],
   "source": [
    "import pandas as pd\n"
   ]
  },
  {
   "cell_type": "code",
   "execution_count": null,
   "id": "5226b609",
   "metadata": {},
   "outputs": [],
   "source": [
    "url = 'https://raw.githubusercontent.com/Magillan17/Machine-learning/main/bike_train_dataset.csv'\n",
    "df = pd.read_csv(url)"
   ]
  },
  {
   "cell_type": "markdown",
   "id": "7b741c87",
   "metadata": {},
   "source": [
    "### Краткое описание признаков: \n",
    "**datetime** - hourly date + timestamp <br/>\n",
    "**season** -  1 = spring, 2 = summer, 3 = fall, 4 = winter <br/>\n",
    "**holiday** - whether the day is considered a holiday <br/>\n",
    "**workingday** - whether the day is neither a weekend nor holiday <br/>\n",
    " **weather** - 1: Clear, Few clouds, Partly cloudy, Partly cloudy\n",
    " 2: Mist + Cloudy, Mist + Broken clouds, Mist + Few clouds, Mist\n",
    " 3: Light Snow, Light Rain + Thunderstorm + Scattered clouds, Light Rain + Scattered clouds\n",
    " 4: Heavy Rain + Ice Pallets + Thunderstorm + Mist, Snow + Fog  <br/>\n",
    " **temp** - temperature in Celsius <br/>\n",
    " **atemp** - \"feels like\" temperature in Celsius <br/>\n",
    " **humidity** - relative humidity <br/>\n",
    " **windspeed** - wind speed <br/>\n",
    " **casual** - number of non-registered user rentals initiated <br/>\n",
    " **registered** - number of registered user rentals initiated <br/>\n",
    " **count** - number of total rentals <br/>\n"
   ]
  },
  {
   "cell_type": "code",
   "execution_count": null,
   "id": "ab9c4946",
   "metadata": {},
   "outputs": [],
   "source": [
    "df.head()"
   ]
  },
  {
   "cell_type": "markdown",
   "id": "391719b3",
   "metadata": {},
   "source": [
    "### Задания"
   ]
  },
  {
   "cell_type": "markdown",
   "id": "1d5764c8",
   "metadata": {},
   "source": [
    "Поговорить про DataFrame, DataSeries. В чем различие? Аналогии в самом python. "
   ]
  },
  {
   "cell_type": "code",
   "execution_count": null,
   "id": "e06d6c99",
   "metadata": {},
   "outputs": [],
   "source": [
    "#Вывести последние 5 записей\n"
   ]
  },
  {
   "cell_type": "code",
   "execution_count": null,
   "id": "c9a09447",
   "metadata": {},
   "outputs": [],
   "source": [
    "#Вывести случайные 5 записей\n"
   ]
  },
  {
   "cell_type": "code",
   "execution_count": null,
   "id": "13974f97",
   "metadata": {},
   "outputs": [],
   "source": [
    "#Вывести размеры датафрейма\n"
   ]
  },
  {
   "cell_type": "code",
   "execution_count": null,
   "id": "60abdf44",
   "metadata": {},
   "outputs": [],
   "source": [
    "#Вывести типы фичей\n"
   ]
  },
  {
   "cell_type": "code",
   "execution_count": null,
   "id": "e3eb4527",
   "metadata": {},
   "outputs": [],
   "source": [
    "#Создать переменную columns, в неё положить список из названий всех фичей\n"
   ]
  },
  {
   "cell_type": "code",
   "execution_count": null,
   "id": "f307a9c6",
   "metadata": {},
   "outputs": [],
   "source": [
    "# Проверить наличие NaNов в каждом из фичей.\n"
   ]
  },
  {
   "cell_type": "code",
   "execution_count": null,
   "id": "3b5b77a8",
   "metadata": {},
   "outputs": [],
   "source": [
    "#Вывести строки под индексами 100, 300, 500\n"
   ]
  },
  {
   "cell_type": "code",
   "execution_count": null,
   "id": "c95a1cc2",
   "metadata": {},
   "outputs": [],
   "source": [
    "#Сделать срез датасэта. Выбрать 5-15 строки, столбцы temp, count"
   ]
  },
  {
   "cell_type": "code",
   "execution_count": null,
   "id": "5221617b",
   "metadata": {},
   "outputs": [],
   "source": [
    "#Удалить из df_srez столбцы count, windspeed. Записи с 10-15\n",
    "df_srez = df_srez.drop(['count','windspeed'], axis=1)"
   ]
  },
  {
   "cell_type": "code",
   "execution_count": null,
   "id": "ac0c6bbe",
   "metadata": {},
   "outputs": [],
   "source": [
    "#Вывести кол-во различных значений в переменной count"
   ]
  },
  {
   "cell_type": "code",
   "execution_count": null,
   "id": "49cd680e",
   "metadata": {},
   "outputs": [],
   "source": [
    "#Какие типы переменных бывают? Вывести среднее, медиану, мин, мах по фичам только по *** фичам"
   ]
  },
  {
   "cell_type": "code",
   "execution_count": null,
   "id": "b8867fe3",
   "metadata": {},
   "outputs": [],
   "source": [
    "#Создать новую колонку 'aaa'. В ней найти отношение зарегистрированных велосипедов к общему числу"
   ]
  },
  {
   "cell_type": "code",
   "execution_count": null,
   "id": "c3a284e8",
   "metadata": {},
   "outputs": [],
   "source": [
    "#Поменять название колонки 'aaa' на 'ratio'"
   ]
  },
  {
   "cell_type": "code",
   "execution_count": null,
   "id": "d3673a6d",
   "metadata": {},
   "outputs": [],
   "source": [
    "# Вывести значения по фиче weather.  Сколько и каких значений есть"
   ]
  },
  {
   "cell_type": "code",
   "execution_count": null,
   "id": "a4366e8d",
   "metadata": {},
   "outputs": [],
   "source": [
    "#Вывести максимальную температуру. минимальную температуру"
   ]
  },
  {
   "cell_type": "code",
   "execution_count": null,
   "id": "21c65f07",
   "metadata": {},
   "outputs": [],
   "source": [
    "# взять срез датасэта сезон, и кол-во велосипедов. Вывести сколько в каждое время года было взято велосипедов"
   ]
  },
  {
   "cell_type": "code",
   "execution_count": null,
   "id": "ae9d9dc6",
   "metadata": {},
   "outputs": [],
   "source": [
    "# Посчитать общее кол-во записей, когда в день было взято более 50 велосипедов"
   ]
  },
  {
   "cell_type": "code",
   "execution_count": null,
   "id": "06c1fbfe",
   "metadata": {},
   "outputs": [],
   "source": [
    "# Посчитать общее кол-во записей, когда в день было взято менее 50 велосипедов и официально не менее 40"
   ]
  },
  {
   "cell_type": "code",
   "execution_count": null,
   "id": "15c0ea12",
   "metadata": {},
   "outputs": [],
   "source": [
    "# Перевести дату в дату DS"
   ]
  },
  {
   "cell_type": "code",
   "execution_count": null,
   "id": "f2ae291d",
   "metadata": {},
   "outputs": [],
   "source": [
    "# Создать признаки для года, месяца, дня часа и минуты"
   ]
  },
  {
   "cell_type": "code",
   "execution_count": null,
   "id": "470ef5f7",
   "metadata": {},
   "outputs": [],
   "source": [
    "#Удалить фичи даты, и фичи минут"
   ]
  },
  {
   "cell_type": "code",
   "execution_count": null,
   "id": "8e260b61",
   "metadata": {},
   "outputs": [],
   "source": [
    "#Создать датасэт по дням. Для этого используем groupby по дню месяцу и дате.Чтобы не было проблем с индексацией строк,\n",
    "#используем reset_index()\n",
    "#Удалим фичи hour. Какие значения так же сбились? "
   ]
  },
  {
   "cell_type": "code",
   "execution_count": null,
   "id": "9c50a3c8",
   "metadata": {},
   "outputs": [],
   "source": [
    "# Типы признаков. Бинарные, Номинальные(Кат), Порядковые и Числовые\n",
    "# Cделать one_hot_encoding по season. Какие фичи к какому типу отночят? по каким фичам можно делать one_hot_encoding? "
   ]
  }
 ],
 "metadata": {
  "kernelspec": {
   "display_name": "Python 3",
   "language": "python",
   "name": "python3"
  },
  "language_info": {
   "codemirror_mode": {
    "name": "ipython",
    "version": 3
   },
   "file_extension": ".py",
   "mimetype": "text/x-python",
   "name": "python",
   "nbconvert_exporter": "python",
   "pygments_lexer": "ipython3",
   "version": "3.8.8"
  }
 },
 "nbformat": 4,
 "nbformat_minor": 5
}
